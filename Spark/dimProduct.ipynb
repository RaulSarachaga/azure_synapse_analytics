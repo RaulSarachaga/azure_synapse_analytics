{
  "metadata": {
    "saveOutput": true,
    "language_info": {
      "name": "python"
    }
  },
  "nbformat": 4,
  "nbformat_minor": 2,
  "cells": [
    {
      "cell_type": "code",
      "execution_count": 3,
      "outputs": [
        {
          "output_type": "execute_result",
          "execution_count": 3,
          "data": {
            "text/plain": "+----------+-------------------+------------------+-----+----+-----+-----+---------+\n|ProductKey|ProductAlternateKey|EnglishProductName|Color|Size|Class|Style|ModelName|\n+----------+-------------------+------------------+-----+----+-----+-----+---------+\n|         1|            AR-5381|   Adjustable Race|   NA|null| null| null|     null|\n|         2|            BA-8327|      Bearing Ball|   NA|null| null| null|     null|\n+----------+-------------------+------------------+-----+----+-----+-----+---------+\nonly showing top 2 rows"
          },
          "metadata": {}
        }
      ],
      "metadata": {},
      "source": [
        "%%pyspark\n",
        "data=spark.read.load(\n",
        "                    ['abfss://cnlanding@dlsynapsemvp.dfs.core.windows.net/Productos.csv'],\n",
        "                    header='true',\n",
        "                    sep=';',\n",
        "                    format='csv'\n",
        "                    )\n",
        "data.show(2)"
      ],
      "attachments": {}
    },
    {
      "cell_type": "code",
      "execution_count": 4,
      "outputs": [
        {
          "output_type": "execute_result",
          "execution_count": 4,
          "data": {
            "text/plain": "+----------+------------------+-----+\n|ProductKey|EnglishProductName|Color|\n+----------+------------------+-----+\n|         1|   Adjustable Race|   NA|\n|         2|      Bearing Ball|   NA|\n+----------+------------------+-----+\nonly showing top 2 rows"
          },
          "metadata": {}
        }
      ],
      "metadata": {},
      "source": [
        "df=data.select(\"ProductKey\",\"EnglishProductName\",\"Color\")\n",
        "df.show(2)"
      ],
      "attachments": {}
    },
    {
      "cell_type": "code",
      "execution_count": 8,
      "outputs": [],
      "metadata": {},
      "source": [
        "df.createOrReplaceTempView('dimProduct')\n",
        "df.write.parquet('abfss://cnstaging@dlsynapsemvp.dfs.core.windows.net/Dimensions', mode='overwrite')"
      ],
      "attachments": {}
    }
  ]
}