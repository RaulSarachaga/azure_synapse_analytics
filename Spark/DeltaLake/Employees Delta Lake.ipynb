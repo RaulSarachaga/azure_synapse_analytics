{
  "cells": [
    {
      "cell_type": "markdown",
      "source": [
        "# Employees Data with Delta Lake (Python)\n"
      ],
      "metadata": {}
    },
    {
      "cell_type": "markdown",
      "source": [
        "## Configuration"
      ],
      "metadata": {}
    },
    {
      "cell_type": "code",
      "source": [
        "import random\n",
        "\n",
        "delta_table_path = \"/delta/delta-table-customer\"\n",
        "delta_table_path"
      ],
      "outputs": [
        {
          "output_type": "display_data",
          "data": {
            "application/vnd.livy.statement-meta+json": {
              "spark_pool": null,
              "session_id": null,
              "statement_id": null,
              "state": "session_error",
              "livy_statement_state": null,
              "queued_time": "2021-04-29T22:02:02.9898245Z",
              "execution_start_time": null,
              "execution_finish_time": null
            },
            "text/plain": "StatementMeta(, , , SessionError, )"
          },
          "metadata": {}
        },
        {
          "output_type": "error",
          "ename": "LivyHttpRequestFailure",
          "evalue": "Something went wrong while processing your request. Please try again later. HTTP status code: 500. Trace ID: 592663dc-786f-4049-8a90-f2b0755800b7.",
          "traceback": [
            "LivyHttpRequestFailure: Something went wrong while processing your request. Please try again later. HTTP status code: 500. Trace ID: 592663dc-786f-4049-8a90-f2b0755800b7."
          ]
        }
      ],
      "execution_count": 1,
      "metadata": {}
    },
    {
      "cell_type": "markdown",
      "source": [
        "## Create a dataframe"
      ],
      "metadata": {
        "nteract": {
          "transient": {
            "deleting": false
          }
        }
      }
    },
    {
      "cell_type": "code",
      "source": [
        "from pyspark.sql.types import StructType,StructField, StringType, IntegerType\r\n",
        "data2 = [(\"Raul\",\"\",\"Sarachaga\",\"36636\",\"M\",3000),\r\n",
        "    (\"Alejandro\",\"Sanchez\",\"\",\"40288\",\"M\",4000),\r\n",
        "    (\"Robert\",\"\",\"Williams\",\"42114\",\"M\",4000),\r\n",
        "    (\"Martha\",\"Chavez\",\"Jones\",\"39192\",\"F\",4000),\r\n",
        "    (\"Jen\",\"Mary\",\"Brown\",\"\",\"F\",-1)\r\n",
        "  ]\r\n",
        "\r\n",
        "schema = StructType([ \\\r\n",
        "    StructField(\"firstname\",StringType(),True), \\\r\n",
        "    StructField(\"middlename\",StringType(),True), \\\r\n",
        "    StructField(\"lastname\",StringType(),True), \\\r\n",
        "    StructField(\"id\", StringType(), True), \\\r\n",
        "    StructField(\"gender\", StringType(), True), \\\r\n",
        "    StructField(\"salary\", IntegerType(), True) \\\r\n",
        "  ])\r\n",
        " \r\n",
        "df = spark.createDataFrame(data=data2,schema=schema)\r\n",
        "df.printSchema()\r\n",
        "df.show(truncate=False)\r\n",
        "df.write.format(\"delta\").save(delta_table_path)"
      ],
      "outputs": [
        {
          "output_type": "display_data",
          "data": {
            "application/vnd.livy.statement-meta+json": {
              "spark_pool": "SparkPoll",
              "session_id": 0,
              "statement_id": 21,
              "state": "finished",
              "livy_statement_state": "available",
              "queued_time": "2021-04-28T22:48:51.6045307Z",
              "execution_start_time": "2021-04-28T22:48:51.7220078Z",
              "execution_finish_time": "2021-04-28T22:48:55.8498584Z"
            },
            "text/plain": "StatementMeta(SparkPoll, 0, 21, Finished, Available)"
          },
          "metadata": {}
        },
        {
          "output_type": "stream",
          "name": "stdout",
          "text": [
            "root\n",
            " |-- firstname: string (nullable = true)\n",
            " |-- middlename: string (nullable = true)\n",
            " |-- lastname: string (nullable = true)\n",
            " |-- id: string (nullable = true)\n",
            " |-- gender: string (nullable = true)\n",
            " |-- salary: integer (nullable = true)\n",
            "\n",
            "+---------+----------+---------+-----+------+------+\n",
            "|firstname|middlename|lastname |id   |gender|salary|\n",
            "+---------+----------+---------+-----+------+------+\n",
            "|Raul     |          |Sarachaga|36636|M     |3000  |\n",
            "|Alejandro|Sanchez   |         |40288|M     |4000  |\n",
            "|Robert   |          |Williams |42114|M     |4000  |\n",
            "|Martha   |Chavez    |Jones    |39192|F     |4000  |\n",
            "|Jen      |Mary      |Brown    |     |F     |-1    |\n",
            "+---------+----------+---------+-----+------+------+"
          ]
        }
      ],
      "execution_count": 22,
      "metadata": {
        "jupyter": {
          "source_hidden": false,
          "outputs_hidden": false
        },
        "nteract": {
          "transient": {
            "deleting": false
          }
        },
        "collapsed": true
      }
    },
    {
      "cell_type": "markdown",
      "source": [
        "## Understanding Meta-data"
      ],
      "metadata": {}
    },
    {
      "cell_type": "code",
      "source": [
        "[log_line.value for log_line in spark.read.text(delta_table_path + \"/_delta_log/\").collect()]"
      ],
      "outputs": [
        {
          "output_type": "display_data",
          "data": {
            "application/vnd.livy.statement-meta+json": {
              "spark_pool": "SparkPoll",
              "session_id": 0,
              "statement_id": 22,
              "state": "finished",
              "livy_statement_state": "available",
              "queued_time": "2021-04-28T22:49:43.5656245Z",
              "execution_start_time": "2021-04-28T22:49:43.6762558Z",
              "execution_finish_time": "2021-04-28T22:49:45.7442307Z"
            },
            "text/plain": "StatementMeta(SparkPoll, 0, 22, Finished, Available)"
          },
          "metadata": {}
        },
        {
          "output_type": "stream",
          "name": "stdout",
          "text": [
            "['{\"commitInfo\":{\"timestamp\":1619650132469,\"operation\":\"WRITE\",\"operationParameters\":{\"mode\":\"ErrorIfExists\",\"partitionBy\":\"[]\"},\"isBlindAppend\":true,\"operationMetrics\":{\"numFiles\":\"6\",\"numOutputBytes\":\"8126\",\"numOutputRows\":\"5\"}}}', '{\"protocol\":{\"minReaderVersion\":1,\"minWriterVersion\":2}}', '{\"metaData\":{\"id\":\"8384e9fa-e807-45bc-bc2b-3a2d1d6dee7e\",\"format\":{\"provider\":\"parquet\",\"options\":{}},\"schemaString\":\"{\\\\\"type\\\\\":\\\\\"struct\\\\\",\\\\\"fields\\\\\":[{\\\\\"name\\\\\":\\\\\"firstname\\\\\",\\\\\"type\\\\\":\\\\\"string\\\\\",\\\\\"nullable\\\\\":true,\\\\\"metadata\\\\\":{}},{\\\\\"name\\\\\":\\\\\"middlename\\\\\",\\\\\"type\\\\\":\\\\\"string\\\\\",\\\\\"nullable\\\\\":true,\\\\\"metadata\\\\\":{}},{\\\\\"name\\\\\":\\\\\"lastname\\\\\",\\\\\"type\\\\\":\\\\\"string\\\\\",\\\\\"nullable\\\\\":true,\\\\\"metadata\\\\\":{}},{\\\\\"name\\\\\":\\\\\"id\\\\\",\\\\\"type\\\\\":\\\\\"string\\\\\",\\\\\"nullable\\\\\":true,\\\\\"metadata\\\\\":{}},{\\\\\"name\\\\\":\\\\\"gender\\\\\",\\\\\"type\\\\\":\\\\\"string\\\\\",\\\\\"nullable\\\\\":true,\\\\\"metadata\\\\\":{}},{\\\\\"name\\\\\":\\\\\"salary\\\\\",\\\\\"type\\\\\":\\\\\"integer\\\\\",\\\\\"nullable\\\\\":true,\\\\\"metadata\\\\\":{}}]}\",\"partitionColumns\":[],\"configuration\":{},\"createdTime\":1619650132028}}', '{\"add\":{\"path\":\"part-00000-76b06da3-1cec-4f2c-9255-ea05ec59f15f-c000.snappy.parquet\",\"partitionValues\":{},\"size\":694,\"modificationTime\":1619650132000,\"dataChange\":true}}', '{\"add\":{\"path\":\"part-00001-73672163-dd69-4742-a2e7-f9892c7f336c-c000.snappy.parquet\",\"partitionValues\":{},\"size\":1482,\"modificationTime\":1619650132000,\"dataChange\":true}}', '{\"add\":{\"path\":\"part-00003-756c5e35-18fd-415c-b399-580e8269d9b6-c000.snappy.parquet\",\"partitionValues\":{},\"size\":1511,\"modificationTime\":1619650132000,\"dataChange\":true}}', '{\"add\":{\"path\":\"part-00004-67758367-0862-4554-b558-2dd6fb49d810-c000.snappy.parquet\",\"partitionValues\":{},\"size\":1493,\"modificationTime\":1619650132000,\"dataChange\":true}}', '{\"add\":{\"path\":\"part-00006-266da263-08df-4cb2-8f65-87c6cc720e3c-c000.snappy.parquet\",\"partitionValues\":{},\"size\":1522,\"modificationTime\":1619650132000,\"dataChange\":true}}', '{\"add\":{\"path\":\"part-00007-2b8c2df2-9bbb-4981-95c9-1d705db1eb07-c000.snappy.parquet\",\"partitionValues\":{},\"size\":1424,\"modificationTime\":1619650132000,\"dataChange\":true}}']"
          ]
        }
      ],
      "execution_count": 23,
      "metadata": {}
    },
    {
      "cell_type": "markdown",
      "source": [
        "## Read data"
      ],
      "metadata": {}
    },
    {
      "cell_type": "code",
      "source": [
        "df = spark.read.format(\"delta\").load(delta_table_path)\n",
        "df.show()"
      ],
      "outputs": [
        {
          "output_type": "display_data",
          "data": {
            "application/vnd.livy.statement-meta+json": {
              "spark_pool": "SparkPoll",
              "session_id": 0,
              "statement_id": 23,
              "state": "finished",
              "livy_statement_state": "available",
              "queued_time": "2021-04-28T22:49:54.6311339Z",
              "execution_start_time": "2021-04-28T22:49:54.731382Z",
              "execution_finish_time": "2021-04-28T22:49:56.7993853Z"
            },
            "text/plain": "StatementMeta(SparkPoll, 0, 23, Finished, Available)"
          },
          "metadata": {}
        },
        {
          "output_type": "stream",
          "name": "stdout",
          "text": [
            "+---------+----------+---------+-----+------+------+\n",
            "|firstname|middlename| lastname|   id|gender|salary|\n",
            "+---------+----------+---------+-----+------+------+\n",
            "|   Martha|    Chavez|    Jones|39192|     F|  4000|\n",
            "|Alejandro|   Sanchez|         |40288|     M|  4000|\n",
            "|   Robert|          | Williams|42114|     M|  4000|\n",
            "|     Raul|          |Sarachaga|36636|     M|  3000|\n",
            "|      Jen|      Mary|    Brown|     |     F|    -1|\n",
            "+---------+----------+---------+-----+------+------+"
          ]
        }
      ],
      "execution_count": 24,
      "metadata": {}
    },
    {
      "cell_type": "markdown",
      "source": [
        "## Update data"
      ],
      "metadata": {}
    },
    {
      "cell_type": "code",
      "source": [
        "data2 = [(\"Raul\",\"\",\"Sarachaga\",\"36636\",\"M\",3000),\n",
        "    (\"Alejandro\",\"Sanchez\",\"\",\"40288\",\"M\",4000),\n",
        "    (\"Robert\",\"\",\"Williams\",\"42114\",\"M\",4000),\n",
        "    (\"Martha\",\"Chavez\",\"Jones\",\"39192\",\"F\",4000)\n",
        "  ]\n",
        "\n",
        "schema = StructType([ \\\n",
        "    StructField(\"firstname\",StringType(),True), \\\n",
        "    StructField(\"middlename\",StringType(),True), \\\n",
        "    StructField(\"lastname\",StringType(),True), \\\n",
        "    StructField(\"id\", StringType(), True), \\\n",
        "    StructField(\"gender\", StringType(), True), \\\n",
        "    StructField(\"salary\", IntegerType(), True) \\\n",
        "  ])\n",
        "\n",
        "data = spark.createDataFrame(data=data2,schema=schema)\n",
        "data.write.format(\"delta\").mode(\"overwrite\").save(delta_table_path)\n",
        "df.show()"
      ],
      "outputs": [
        {
          "output_type": "display_data",
          "data": {
            "application/vnd.livy.statement-meta+json": {
              "spark_pool": "SparkPoll",
              "session_id": 0,
              "statement_id": 25,
              "state": "finished",
              "livy_statement_state": "available",
              "queued_time": "2021-04-28T22:51:43.0083118Z",
              "execution_start_time": "2021-04-28T22:51:43.1594253Z",
              "execution_finish_time": "2021-04-28T22:51:47.2923405Z"
            },
            "text/plain": "StatementMeta(SparkPoll, 0, 25, Finished, Available)"
          },
          "metadata": {}
        },
        {
          "output_type": "stream",
          "name": "stdout",
          "text": [
            "+---------+----------+---------+-----+------+------+\n",
            "|firstname|middlename| lastname|   id|gender|salary|\n",
            "+---------+----------+---------+-----+------+------+\n",
            "|   Martha|    Chavez|    Jones|39192|     F|  4000|\n",
            "|Alejandro|   Sanchez|         |40288|     M|  4000|\n",
            "|   Robert|          | Williams|42114|     M|  4000|\n",
            "|     Raul|          |Sarachaga|36636|     M|  3000|\n",
            "+---------+----------+---------+-----+------+------+"
          ]
        }
      ],
      "execution_count": 26,
      "metadata": {}
    },
    {
      "cell_type": "code",
      "source": [
        "[log_line.value for log_line in spark.read.text(delta_table_path + \"/_delta_log/\").collect()]"
      ],
      "outputs": [
        {
          "output_type": "display_data",
          "data": {
            "application/vnd.livy.statement-meta+json": {
              "spark_pool": "SparkPoll",
              "session_id": 0,
              "statement_id": 26,
              "state": "finished",
              "livy_statement_state": "available",
              "queued_time": "2021-04-28T22:52:13.1558413Z",
              "execution_start_time": "2021-04-28T22:52:13.2664481Z",
              "execution_finish_time": "2021-04-28T22:52:15.3389001Z"
            },
            "text/plain": "StatementMeta(SparkPoll, 0, 26, Finished, Available)"
          },
          "metadata": {}
        },
        {
          "output_type": "stream",
          "name": "stdout",
          "text": [
            "['{\"commitInfo\":{\"timestamp\":1619650132469,\"operation\":\"WRITE\",\"operationParameters\":{\"mode\":\"ErrorIfExists\",\"partitionBy\":\"[]\"},\"isBlindAppend\":true,\"operationMetrics\":{\"numFiles\":\"6\",\"numOutputBytes\":\"8126\",\"numOutputRows\":\"5\"}}}', '{\"protocol\":{\"minReaderVersion\":1,\"minWriterVersion\":2}}', '{\"metaData\":{\"id\":\"8384e9fa-e807-45bc-bc2b-3a2d1d6dee7e\",\"format\":{\"provider\":\"parquet\",\"options\":{}},\"schemaString\":\"{\\\\\"type\\\\\":\\\\\"struct\\\\\",\\\\\"fields\\\\\":[{\\\\\"name\\\\\":\\\\\"firstname\\\\\",\\\\\"type\\\\\":\\\\\"string\\\\\",\\\\\"nullable\\\\\":true,\\\\\"metadata\\\\\":{}},{\\\\\"name\\\\\":\\\\\"middlename\\\\\",\\\\\"type\\\\\":\\\\\"string\\\\\",\\\\\"nullable\\\\\":true,\\\\\"metadata\\\\\":{}},{\\\\\"name\\\\\":\\\\\"lastname\\\\\",\\\\\"type\\\\\":\\\\\"string\\\\\",\\\\\"nullable\\\\\":true,\\\\\"metadata\\\\\":{}},{\\\\\"name\\\\\":\\\\\"id\\\\\",\\\\\"type\\\\\":\\\\\"string\\\\\",\\\\\"nullable\\\\\":true,\\\\\"metadata\\\\\":{}},{\\\\\"name\\\\\":\\\\\"gender\\\\\",\\\\\"type\\\\\":\\\\\"string\\\\\",\\\\\"nullable\\\\\":true,\\\\\"metadata\\\\\":{}},{\\\\\"name\\\\\":\\\\\"salary\\\\\",\\\\\"type\\\\\":\\\\\"integer\\\\\",\\\\\"nullable\\\\\":true,\\\\\"metadata\\\\\":{}}]}\",\"partitionColumns\":[],\"configuration\":{},\"createdTime\":1619650132028}}', '{\"add\":{\"path\":\"part-00000-76b06da3-1cec-4f2c-9255-ea05ec59f15f-c000.snappy.parquet\",\"partitionValues\":{},\"size\":694,\"modificationTime\":1619650132000,\"dataChange\":true}}', '{\"add\":{\"path\":\"part-00001-73672163-dd69-4742-a2e7-f9892c7f336c-c000.snappy.parquet\",\"partitionValues\":{},\"size\":1482,\"modificationTime\":1619650132000,\"dataChange\":true}}', '{\"add\":{\"path\":\"part-00003-756c5e35-18fd-415c-b399-580e8269d9b6-c000.snappy.parquet\",\"partitionValues\":{},\"size\":1511,\"modificationTime\":1619650132000,\"dataChange\":true}}', '{\"add\":{\"path\":\"part-00004-67758367-0862-4554-b558-2dd6fb49d810-c000.snappy.parquet\",\"partitionValues\":{},\"size\":1493,\"modificationTime\":1619650132000,\"dataChange\":true}}', '{\"add\":{\"path\":\"part-00006-266da263-08df-4cb2-8f65-87c6cc720e3c-c000.snappy.parquet\",\"partitionValues\":{},\"size\":1522,\"modificationTime\":1619650132000,\"dataChange\":true}}', '{\"add\":{\"path\":\"part-00007-2b8c2df2-9bbb-4981-95c9-1d705db1eb07-c000.snappy.parquet\",\"partitionValues\":{},\"size\":1424,\"modificationTime\":1619650132000,\"dataChange\":true}}', '{\"commitInfo\":{\"timestamp\":1619650304120,\"operation\":\"WRITE\",\"operationParameters\":{\"mode\":\"Overwrite\",\"partitionBy\":\"[]\"},\"readVersion\":0,\"isBlindAppend\":false,\"operationMetrics\":{\"numFiles\":\"5\",\"numOutputBytes\":\"6702\",\"numOutputRows\":\"4\"}}}', '{\"add\":{\"path\":\"part-00000-677d9061-833f-4d01-b8a4-2dd1c1071ef7-c000.snappy.parquet\",\"partitionValues\":{},\"size\":694,\"modificationTime\":1619650303000,\"dataChange\":true}}', '{\"add\":{\"path\":\"part-00001-2d502705-4817-461e-af07-56b20a25b5c1-c000.snappy.parquet\",\"partitionValues\":{},\"size\":1482,\"modificationTime\":1619650303000,\"dataChange\":true}}', '{\"add\":{\"path\":\"part-00003-05f9072c-41d0-4852-b2d0-caf0af5c2bd3-c000.snappy.parquet\",\"partitionValues\":{},\"size\":1511,\"modificationTime\":1619650303000,\"dataChange\":true}}', '{\"add\":{\"path\":\"part-00005-57d2c201-16da-4756-a082-7435dbf9b128-c000.snappy.parquet\",\"partitionValues\":{},\"size\":1493,\"modificationTime\":1619650303000,\"dataChange\":true}}', '{\"add\":{\"path\":\"part-00007-2a45402e-4b33-4251-992b-87b0ca1fcb4f-c000.snappy.parquet\",\"partitionValues\":{},\"size\":1522,\"modificationTime\":1619650303000,\"dataChange\":true}}', '{\"remove\":{\"path\":\"part-00004-67758367-0862-4554-b558-2dd6fb49d810-c000.snappy.parquet\",\"deletionTimestamp\":1619650304120,\"dataChange\":true}}', '{\"remove\":{\"path\":\"part-00007-2b8c2df2-9bbb-4981-95c9-1d705db1eb07-c000.snappy.parquet\",\"deletionTimestamp\":1619650304120,\"dataChange\":true}}', '{\"remove\":{\"path\":\"part-00006-266da263-08df-4cb2-8f65-87c6cc720e3c-c000.snappy.parquet\",\"deletionTimestamp\":1619650304120,\"dataChange\":true}}', '{\"remove\":{\"path\":\"part-00003-756c5e35-18fd-415c-b399-580e8269d9b6-c000.snappy.parquet\",\"deletionTimestamp\":1619650304120,\"dataChange\":true}}', '{\"remove\":{\"path\":\"part-00000-76b06da3-1cec-4f2c-9255-ea05ec59f15f-c000.snappy.parquet\",\"deletionTimestamp\":1619650304120,\"dataChange\":true}}', '{\"remove\":{\"path\":\"part-00001-73672163-dd69-4742-a2e7-f9892c7f336c-c000.snappy.parquet\",\"deletionTimestamp\":1619650304120,\"dataChange\":true}}']"
          ]
        }
      ],
      "execution_count": 27,
      "metadata": {}
    },
    {
      "cell_type": "markdown",
      "source": [
        "## Save as tables"
      ],
      "metadata": {}
    },
    {
      "cell_type": "code",
      "source": [
        "# Define an external catalog table that points to the existing Delta Lake data in storage.\n",
        "spark.sql(\"CREATE TABLE CustomerDeltaTable USING DELTA LOCATION '{0}'\".format(delta_table_path))"
      ],
      "outputs": [
        {
          "output_type": "display_data",
          "data": {
            "application/vnd.livy.statement-meta+json": {
              "spark_pool": "SparkPoll",
              "session_id": 0,
              "statement_id": 28,
              "state": "finished",
              "livy_statement_state": "available",
              "queued_time": "2021-04-28T22:53:03.0325198Z",
              "execution_start_time": "2021-04-28T22:53:03.1469044Z",
              "execution_finish_time": "2021-04-28T22:53:05.2134467Z"
            },
            "text/plain": "StatementMeta(SparkPoll, 0, 28, Finished, Available)"
          },
          "metadata": {}
        },
        {
          "output_type": "stream",
          "name": "stdout",
          "text": [
            "DataFrame[]"
          ]
        }
      ],
      "execution_count": 29,
      "metadata": {}
    },
    {
      "cell_type": "code",
      "source": [
        "%%sql\r\n",
        "SELECT * FROM CustomerDeltaTable"
      ],
      "outputs": [
        {
          "output_type": "display_data",
          "data": {
            "application/vnd.livy.statement-meta+json": {
              "spark_pool": "SparkPoll",
              "session_id": 0,
              "statement_id": 29,
              "state": "finished",
              "livy_statement_state": "available",
              "queued_time": "2021-04-28T22:53:15.0493923Z",
              "execution_start_time": "2021-04-28T22:53:15.1544803Z",
              "execution_finish_time": "2021-04-28T22:53:17.2092889Z"
            },
            "text/plain": "StatementMeta(SparkPoll, 0, 29, Finished, Available)"
          },
          "metadata": {}
        },
        {
          "output_type": "execute_result",
          "execution_count": 30,
          "data": {
            "application/vnd.synapse.sparksql-result+json": {
              "schema": {
                "type": "struct",
                "fields": [
                  {
                    "name": "firstname",
                    "type": "string",
                    "nullable": true,
                    "metadata": {}
                  },
                  {
                    "name": "middlename",
                    "type": "string",
                    "nullable": true,
                    "metadata": {}
                  },
                  {
                    "name": "lastname",
                    "type": "string",
                    "nullable": true,
                    "metadata": {}
                  },
                  {
                    "name": "id",
                    "type": "string",
                    "nullable": true,
                    "metadata": {}
                  },
                  {
                    "name": "gender",
                    "type": "string",
                    "nullable": true,
                    "metadata": {}
                  },
                  {
                    "name": "salary",
                    "type": "integer",
                    "nullable": true,
                    "metadata": {}
                  }
                ]
              },
              "data": [
                [
                  "Martha",
                  "Chavez",
                  "Jones",
                  "39192",
                  "F",
                  4000
                ],
                [
                  "Alejandro",
                  "Sanchez",
                  "",
                  "40288",
                  "M",
                  4000
                ],
                [
                  "Robert",
                  "",
                  "Williams",
                  "42114",
                  "M",
                  4000
                ],
                [
                  "Raul",
                  "",
                  "Sarachaga",
                  "36636",
                  "M",
                  3000
                ]
              ]
            },
            "text/plain": "<Spark SQL result set with 4 rows and 6 fields>"
          },
          "metadata": {}
        }
      ],
      "execution_count": 30,
      "metadata": {
        "jupyter": {
          "source_hidden": false,
          "outputs_hidden": false
        },
        "nteract": {
          "transient": {
            "deleting": false
          }
        },
        "microsoft": {
          "language": "sparksql"
        },
        "collapsed": false
      }
    },
    {
      "cell_type": "markdown",
      "source": [
        "## Update rows"
      ],
      "metadata": {}
    },
    {
      "cell_type": "code",
      "source": [
        "from delta.tables import *\n",
        "from pyspark.sql.functions import *\n",
        "\n",
        "delta_table = DeltaTable.forPath(spark, delta_table_path)"
      ],
      "outputs": [
        {
          "output_type": "display_data",
          "data": {
            "application/vnd.livy.statement-meta+json": {
              "spark_pool": "SparkPoll",
              "session_id": 0,
              "statement_id": 30,
              "state": "finished",
              "livy_statement_state": "available",
              "queued_time": "2021-04-28T22:54:01.8384795Z",
              "execution_start_time": "2021-04-28T22:54:01.947877Z",
              "execution_finish_time": "2021-04-28T22:54:04.0209527Z"
            },
            "text/plain": "StatementMeta(SparkPoll, 0, 30, Finished, Available)"
          },
          "metadata": {}
        },
        {
          "output_type": "stream",
          "name": "stdout",
          "text": []
        }
      ],
      "execution_count": 31,
      "metadata": {}
    },
    {
      "cell_type": "code",
      "source": [
        "# \n",
        "delta_table.update(\n",
        "  condition = expr(\"id  == 39192\"),\n",
        "  set = { \"salary\": \"1000\" })\n",
        "delta_table.toDF().show()"
      ],
      "outputs": [
        {
          "output_type": "display_data",
          "data": {
            "application/vnd.livy.statement-meta+json": {
              "spark_pool": "SparkPoll",
              "session_id": 0,
              "statement_id": 33,
              "state": "finished",
              "livy_statement_state": "available",
              "queued_time": "2021-04-28T22:55:42.8502529Z",
              "execution_start_time": "2021-04-28T22:55:42.9604054Z",
              "execution_finish_time": "2021-04-28T22:55:49.1499834Z"
            },
            "text/plain": "StatementMeta(SparkPoll, 0, 33, Finished, Available)"
          },
          "metadata": {}
        },
        {
          "output_type": "stream",
          "name": "stdout",
          "text": [
            "+---------+----------+---------+-----+------+------+\n",
            "|firstname|middlename| lastname|   id|gender|salary|\n",
            "+---------+----------+---------+-----+------+------+\n",
            "|   Martha|    Chavez|    Jones|39192|     F|  1000|\n",
            "|Alejandro|   Sanchez|         |40288|     M|  4000|\n",
            "|   Robert|          | Williams|42114|     M|  4000|\n",
            "|     Raul|          |Sarachaga|36636|     M|  3000|\n",
            "+---------+----------+---------+-----+------+------+"
          ]
        }
      ],
      "execution_count": 34,
      "metadata": {}
    },
    {
      "cell_type": "markdown",
      "source": [
        "## Delete rows"
      ],
      "metadata": {
        "nteract": {
          "transient": {
            "deleting": false
          }
        }
      }
    },
    {
      "cell_type": "code",
      "source": [
        "# Delete every even value\n",
        "delta_table.delete(\"id == 40288\")\n",
        "delta_table.toDF().show()"
      ],
      "outputs": [
        {
          "output_type": "display_data",
          "data": {
            "application/vnd.livy.statement-meta+json": {
              "spark_pool": "SparkPoll",
              "session_id": 0,
              "statement_id": 34,
              "state": "finished",
              "livy_statement_state": "available",
              "queued_time": "2021-04-28T22:56:05.2837275Z",
              "execution_start_time": "2021-04-28T22:56:05.3837091Z",
              "execution_finish_time": "2021-04-28T22:56:11.5813503Z"
            },
            "text/plain": "StatementMeta(SparkPoll, 0, 34, Finished, Available)"
          },
          "metadata": {}
        },
        {
          "output_type": "stream",
          "name": "stdout",
          "text": [
            "+---------+----------+---------+-----+------+------+\n",
            "|firstname|middlename| lastname|   id|gender|salary|\n",
            "+---------+----------+---------+-----+------+------+\n",
            "|   Martha|    Chavez|    Jones|39192|     F|  1000|\n",
            "|   Robert|          | Williams|42114|     M|  4000|\n",
            "|     Raul|          |Sarachaga|36636|     M|  3000|\n",
            "+---------+----------+---------+-----+------+------+"
          ]
        }
      ],
      "execution_count": 35,
      "metadata": {}
    },
    {
      "cell_type": "code",
      "source": [
        "data2 = [(\"Martin\",\"\",\"Sarachaga\",\"36637\",\"M\",3000)\r\n",
        "  ]\r\n",
        "\r\n",
        "schema = StructType([ \\\r\n",
        "    StructField(\"firstname\",StringType(),True), \\\r\n",
        "    StructField(\"middlename\",StringType(),True), \\\r\n",
        "    StructField(\"lastname\",StringType(),True), \\\r\n",
        "    StructField(\"id\", StringType(), True), \\\r\n",
        "    StructField(\"gender\", StringType(), True), \\\r\n",
        "    StructField(\"salary\", IntegerType(), True) \\\r\n",
        "  ])\r\n",
        "\r\n",
        "new_data  = spark.createDataFrame(data=data2,schema=schema)\r\n",
        "new_data .show()"
      ],
      "outputs": [
        {
          "output_type": "display_data",
          "data": {
            "application/vnd.livy.statement-meta+json": {
              "spark_pool": "SparkPoll",
              "session_id": 0,
              "statement_id": 37,
              "state": "finished",
              "livy_statement_state": "available",
              "queued_time": "2021-04-28T22:58:22.7123133Z",
              "execution_start_time": "2021-04-28T22:58:22.8260065Z",
              "execution_finish_time": "2021-04-28T22:58:24.8886136Z"
            },
            "text/plain": "StatementMeta(SparkPoll, 0, 37, Finished, Available)"
          },
          "metadata": {}
        },
        {
          "output_type": "stream",
          "name": "stdout",
          "text": [
            "+---------+----------+---------+-----+------+------+\n",
            "|firstname|middlename| lastname|   id|gender|salary|\n",
            "+---------+----------+---------+-----+------+------+\n",
            "|   Martin|          |Sarachaga|36637|     M|  3000|\n",
            "+---------+----------+---------+-----+------+------+"
          ]
        }
      ],
      "execution_count": 38,
      "metadata": {
        "jupyter": {
          "source_hidden": false,
          "outputs_hidden": false
        },
        "nteract": {
          "transient": {
            "deleting": false
          }
        },
        "collapsed": true
      }
    },
    {
      "cell_type": "markdown",
      "source": [
        "## Merge Rows"
      ],
      "metadata": {
        "nteract": {
          "transient": {
            "deleting": false
          }
        }
      }
    },
    {
      "cell_type": "code",
      "source": [
        "# Upsert (merge) new data\n",
        "#new_data = spark.range(0,20).alias(\"newData\")\n",
        "\n",
        "delta_table.alias(\"oldData\")\\\n",
        "    .merge(new_data.alias(\"newData\"), \"oldData.id = newData.id\")\\\n",
        "    .whenMatchedUpdate(set = { \"id\": lit(\"-1\")})\\\n",
        "    .whenNotMatchedInsert(values = { \"id\": col(\"newData.id\") , \n",
        "                                    \"firstname\": col(\"newData.firstname\"), \n",
        "                                    \"lastname\": col(\"newData.lastname\"),\n",
        "                                    \"gender\": col(\"newData.gender\"),\n",
        "                                    \"salary\": col(\"newData.salary\") })\\\n",
        "    .execute()\n",
        "\n",
        "delta_table.toDF().show(100)"
      ],
      "outputs": [
        {
          "output_type": "display_data",
          "data": {
            "application/vnd.livy.statement-meta+json": {
              "spark_pool": "SparkPoll",
              "session_id": 0,
              "statement_id": 41,
              "state": "finished",
              "livy_statement_state": "available",
              "queued_time": "2021-04-28T23:01:49.9587569Z",
              "execution_start_time": "2021-04-28T23:01:50.061127Z",
              "execution_finish_time": "2021-04-28T23:01:58.3265357Z"
            },
            "text/plain": "StatementMeta(SparkPoll, 0, 41, Finished, Available)"
          },
          "metadata": {}
        },
        {
          "output_type": "stream",
          "name": "stdout",
          "text": [
            "+---------+----------+---------+-----+------+------+\n",
            "|firstname|middlename| lastname|   id|gender|salary|\n",
            "+---------+----------+---------+-----+------+------+\n",
            "|   Martha|    Chavez|    Jones|39192|     F|  1000|\n",
            "|   Robert|          | Williams|42114|     M|  4000|\n",
            "|     Raul|          |Sarachaga|36636|     M|  3000|\n",
            "|   Martin|      null|Sarachaga|   -1|  null|  null|\n",
            "|     null|      null|     null|   -1|  null|  null|\n",
            "+---------+----------+---------+-----+------+------+"
          ]
        }
      ],
      "execution_count": 42,
      "metadata": {}
    },
    {
      "cell_type": "markdown",
      "source": [
        "## History"
      ],
      "metadata": {}
    },
    {
      "cell_type": "code",
      "source": [
        "delta_table.history().show(20,100)"
      ],
      "outputs": [
        {
          "output_type": "display_data",
          "data": {
            "application/vnd.livy.statement-meta+json": {
              "spark_pool": "SparkPoll",
              "session_id": 0,
              "statement_id": 46,
              "state": "finished",
              "livy_statement_state": "available",
              "queued_time": "2021-04-28T23:03:27.4714119Z",
              "execution_start_time": "2021-04-28T23:03:27.5739569Z",
              "execution_finish_time": "2021-04-28T23:03:29.6431496Z"
            },
            "text/plain": "StatementMeta(SparkPoll, 0, 46, Finished, Available)"
          },
          "metadata": {}
        },
        {
          "output_type": "stream",
          "name": "stdout",
          "text": [
            "+-------+-------------------+------+--------+---------+----------------------------------------------+----+--------+---------+-----------+--------------+-------------+----------------------------------------------------------------------------------------------------+\n",
            "|version|          timestamp|userId|userName|operation|                           operationParameters| job|notebook|clusterId|readVersion|isolationLevel|isBlindAppend|                                                                                    operationMetrics|\n",
            "+-------+-------------------+------+--------+---------+----------------------------------------------+----+--------+---------+-----------+--------------+-------------+----------------------------------------------------------------------------------------------------+\n",
            "|      8|2021-04-28 23:01:55|  null|    null|    MERGE|  [predicate -> (oldData.`id` = newData.`id`)]|null|    null|     null|          7|          null|        false|[numTargetRowsCopied -> 0, numTargetRowsDeleted -> 0, numTargetFilesAdded -> 2, numTargetRowsInse...|\n",
            "|      7|2021-04-28 23:00:51|  null|    null|    MERGE|  [predicate -> (oldData.`id` = newData.`id`)]|null|    null|     null|          6|          null|        false|[numTargetRowsCopied -> 0, numTargetRowsDeleted -> 0, numTargetFilesAdded -> 2, numTargetRowsInse...|\n",
            "|      6|2021-04-28 23:00:25|  null|    null|    MERGE|  [predicate -> (oldData.`id` = newData.`id`)]|null|    null|     null|          5|          null|        false|[numTargetRowsCopied -> 0, numTargetRowsDeleted -> 0, numTargetFilesAdded -> 2, numTargetRowsInse...|\n",
            "|      5|2021-04-28 22:59:15|  null|    null|    MERGE|  [predicate -> (oldData.`id` = newData.`id`)]|null|    null|     null|          4|          null|        false|[numTargetRowsCopied -> 0, numTargetRowsDeleted -> 0, numTargetFilesAdded -> 2, numTargetRowsInse...|\n",
            "|      4|2021-04-28 22:56:08|  null|    null|   DELETE|[predicate -> [\"(CAST(`id` AS INT) = 40288)\"]]|null|    null|     null|          3|          null|        false|                 [numRemovedFiles -> 1, numDeletedRows -> 1, numAddedFiles -> 1, numCopiedRows -> 0]|\n",
            "|      3|2021-04-28 22:55:44|  null|    null|   UPDATE| [predicate -> (cast(id#1929 as int) = 39192)]|null|    null|     null|          2|          null|        false|                 [numRemovedFiles -> 1, numAddedFiles -> 1, numUpdatedRows -> 1, numCopiedRows -> 0]|\n",
            "|      2|2021-04-28 22:55:17|  null|    null|   UPDATE| [predicate -> (cast(id#1929 as int) = 39192)]|null|    null|     null|          1|          null|        false|                 [numRemovedFiles -> 1, numAddedFiles -> 1, numUpdatedRows -> 1, numCopiedRows -> 0]|\n",
            "|      1|2021-04-28 22:51:44|  null|    null|    WRITE|        [mode -> Overwrite, partitionBy -> []]|null|    null|     null|          0|          null|        false|                                         [numFiles -> 5, numOutputBytes -> 6702, numOutputRows -> 4]|\n",
            "|      0|2021-04-28 22:48:52|  null|    null|    WRITE|    [mode -> ErrorIfExists, partitionBy -> []]|null|    null|     null|       null|          null|         true|                                         [numFiles -> 6, numOutputBytes -> 8126, numOutputRows -> 5]|\n",
            "+-------+-------------------+------+--------+---------+----------------------------------------------+----+--------+---------+-----------+--------------+-------------+----------------------------------------------------------------------------------------------------+"
          ]
        }
      ],
      "execution_count": 47,
      "metadata": {}
    }
  ],
  "metadata": {
    "kernelspec": {
      "name": "synapse_pyspark",
      "language": "Python",
      "display_name": "Synapse PySpark"
    },
    "language_info": {
      "name": "python"
    },
    "kernel_info": {
      "name": "synapse_pyspark"
    },
    "save_output": true,
    "synapse_widget": {
      "version": "0.1",
      "state": {}
    }
  },
  "nbformat": 4,
  "nbformat_minor": 2
}